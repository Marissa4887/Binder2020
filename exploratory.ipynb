{
 "cells": [
  {
   "cell_type": "code",
   "execution_count": 65,
   "metadata": {},
   "outputs": [],
   "source": [
    "import pandas as pd\n",
    "import numpy as np\n",
    "\n",
    "from matplotlib import pyplot as plt\n"
   ]
  },
  {
   "cell_type": "markdown",
   "metadata": {},
   "source": [
    "### Download data"
   ]
  },
  {
   "cell_type": "code",
   "execution_count": 90,
   "metadata": {},
   "outputs": [
    {
     "name": "stderr",
     "output_type": "stream",
     "text": [
      "File ‘news-final.csv’ already there; not retrieving.\n",
      "File ‘facebook-microsoft.csv’ already there; not retrieving.\n",
      "File ‘googleplus-microsoft.csv’ already there; not retrieving.\n",
      "File ‘linkedin-microsoft.csv’ already there; not retrieving.\n"
     ]
    },
    {
     "ename": "CalledProcessError",
     "evalue": "Command 'b'\\nwget -nc -O news-final.csv http://archive.ics.uci.edu/ml/machine-learning-databases/00432/Data/News_Final.csv \\n\\nwget -nc -O facebook-microsoft.csv http://archive.ics.uci.edu/ml/machine-learning-databases/00432/Data/Facebook_Microsoft.csv\\nwget -nc -O googleplus-microsoft.csv http://archive.ics.uci.edu/ml/machine-learning-databases/00432/Data/GooglePlus_Microsoft.csv\\nwget -nc -O linkedin-microsoft.csv http://archive.ics.uci.edu/ml/machine-learning-databases/00432/Data/LinkedIn_Microsoft.csv\\n'' returned non-zero exit status 1.",
     "output_type": "error",
     "traceback": [
      "\u001b[0;31m---------------------------------------------------------------------------\u001b[0m",
      "\u001b[0;31mCalledProcessError\u001b[0m                        Traceback (most recent call last)",
      "\u001b[0;32m<ipython-input-90-fe7a0787e48f>\u001b[0m in \u001b[0;36m<module>\u001b[0;34m\u001b[0m\n\u001b[0;32m----> 1\u001b[0;31m \u001b[0mget_ipython\u001b[0m\u001b[0;34m(\u001b[0m\u001b[0;34m)\u001b[0m\u001b[0;34m.\u001b[0m\u001b[0mrun_cell_magic\u001b[0m\u001b[0;34m(\u001b[0m\u001b[0;34m'bash'\u001b[0m\u001b[0;34m,\u001b[0m \u001b[0;34m''\u001b[0m\u001b[0;34m,\u001b[0m \u001b[0;34m'\\nwget -nc -O news-final.csv http://archive.ics.uci.edu/ml/machine-learning-databases/00432/Data/News_Final.csv \\n\\nwget -nc -O facebook-microsoft.csv http://archive.ics.uci.edu/ml/machine-learning-databases/00432/Data/Facebook_Microsoft.csv\\nwget -nc -O googleplus-microsoft.csv http://archive.ics.uci.edu/ml/machine-learning-databases/00432/Data/GooglePlus_Microsoft.csv\\nwget -nc -O linkedin-microsoft.csv http://archive.ics.uci.edu/ml/machine-learning-databases/00432/Data/LinkedIn_Microsoft.csv\\n'\u001b[0m\u001b[0;34m)\u001b[0m\u001b[0;34m\u001b[0m\u001b[0;34m\u001b[0m\u001b[0m\n\u001b[0m",
      "\u001b[0;32m~/anaconda3/lib/python3.7/site-packages/IPython/core/interactiveshell.py\u001b[0m in \u001b[0;36mrun_cell_magic\u001b[0;34m(self, magic_name, line, cell)\u001b[0m\n\u001b[1;32m   2360\u001b[0m             \u001b[0;32mwith\u001b[0m \u001b[0mself\u001b[0m\u001b[0;34m.\u001b[0m\u001b[0mbuiltin_trap\u001b[0m\u001b[0;34m:\u001b[0m\u001b[0;34m\u001b[0m\u001b[0;34m\u001b[0m\u001b[0m\n\u001b[1;32m   2361\u001b[0m                 \u001b[0margs\u001b[0m \u001b[0;34m=\u001b[0m \u001b[0;34m(\u001b[0m\u001b[0mmagic_arg_s\u001b[0m\u001b[0;34m,\u001b[0m \u001b[0mcell\u001b[0m\u001b[0;34m)\u001b[0m\u001b[0;34m\u001b[0m\u001b[0;34m\u001b[0m\u001b[0m\n\u001b[0;32m-> 2362\u001b[0;31m                 \u001b[0mresult\u001b[0m \u001b[0;34m=\u001b[0m \u001b[0mfn\u001b[0m\u001b[0;34m(\u001b[0m\u001b[0;34m*\u001b[0m\u001b[0margs\u001b[0m\u001b[0;34m,\u001b[0m \u001b[0;34m**\u001b[0m\u001b[0mkwargs\u001b[0m\u001b[0;34m)\u001b[0m\u001b[0;34m\u001b[0m\u001b[0;34m\u001b[0m\u001b[0m\n\u001b[0m\u001b[1;32m   2363\u001b[0m             \u001b[0;32mreturn\u001b[0m \u001b[0mresult\u001b[0m\u001b[0;34m\u001b[0m\u001b[0;34m\u001b[0m\u001b[0m\n\u001b[1;32m   2364\u001b[0m \u001b[0;34m\u001b[0m\u001b[0m\n",
      "\u001b[0;32m~/anaconda3/lib/python3.7/site-packages/IPython/core/magics/script.py\u001b[0m in \u001b[0;36mnamed_script_magic\u001b[0;34m(line, cell)\u001b[0m\n\u001b[1;32m    140\u001b[0m             \u001b[0;32melse\u001b[0m\u001b[0;34m:\u001b[0m\u001b[0;34m\u001b[0m\u001b[0;34m\u001b[0m\u001b[0m\n\u001b[1;32m    141\u001b[0m                 \u001b[0mline\u001b[0m \u001b[0;34m=\u001b[0m \u001b[0mscript\u001b[0m\u001b[0;34m\u001b[0m\u001b[0;34m\u001b[0m\u001b[0m\n\u001b[0;32m--> 142\u001b[0;31m             \u001b[0;32mreturn\u001b[0m \u001b[0mself\u001b[0m\u001b[0;34m.\u001b[0m\u001b[0mshebang\u001b[0m\u001b[0;34m(\u001b[0m\u001b[0mline\u001b[0m\u001b[0;34m,\u001b[0m \u001b[0mcell\u001b[0m\u001b[0;34m)\u001b[0m\u001b[0;34m\u001b[0m\u001b[0;34m\u001b[0m\u001b[0m\n\u001b[0m\u001b[1;32m    143\u001b[0m \u001b[0;34m\u001b[0m\u001b[0m\n\u001b[1;32m    144\u001b[0m         \u001b[0;31m# write a basic docstring:\u001b[0m\u001b[0;34m\u001b[0m\u001b[0;34m\u001b[0m\u001b[0;34m\u001b[0m\u001b[0m\n",
      "\u001b[0;32m</Users/admin/anaconda3/lib/python3.7/site-packages/decorator.py:decorator-gen-110>\u001b[0m in \u001b[0;36mshebang\u001b[0;34m(self, line, cell)\u001b[0m\n",
      "\u001b[0;32m~/anaconda3/lib/python3.7/site-packages/IPython/core/magic.py\u001b[0m in \u001b[0;36m<lambda>\u001b[0;34m(f, *a, **k)\u001b[0m\n\u001b[1;32m    185\u001b[0m     \u001b[0;31m# but it's overkill for just that one bit of state.\u001b[0m\u001b[0;34m\u001b[0m\u001b[0;34m\u001b[0m\u001b[0;34m\u001b[0m\u001b[0m\n\u001b[1;32m    186\u001b[0m     \u001b[0;32mdef\u001b[0m \u001b[0mmagic_deco\u001b[0m\u001b[0;34m(\u001b[0m\u001b[0marg\u001b[0m\u001b[0;34m)\u001b[0m\u001b[0;34m:\u001b[0m\u001b[0;34m\u001b[0m\u001b[0;34m\u001b[0m\u001b[0m\n\u001b[0;32m--> 187\u001b[0;31m         \u001b[0mcall\u001b[0m \u001b[0;34m=\u001b[0m \u001b[0;32mlambda\u001b[0m \u001b[0mf\u001b[0m\u001b[0;34m,\u001b[0m \u001b[0;34m*\u001b[0m\u001b[0ma\u001b[0m\u001b[0;34m,\u001b[0m \u001b[0;34m**\u001b[0m\u001b[0mk\u001b[0m\u001b[0;34m:\u001b[0m \u001b[0mf\u001b[0m\u001b[0;34m(\u001b[0m\u001b[0;34m*\u001b[0m\u001b[0ma\u001b[0m\u001b[0;34m,\u001b[0m \u001b[0;34m**\u001b[0m\u001b[0mk\u001b[0m\u001b[0;34m)\u001b[0m\u001b[0;34m\u001b[0m\u001b[0;34m\u001b[0m\u001b[0m\n\u001b[0m\u001b[1;32m    188\u001b[0m \u001b[0;34m\u001b[0m\u001b[0m\n\u001b[1;32m    189\u001b[0m         \u001b[0;32mif\u001b[0m \u001b[0mcallable\u001b[0m\u001b[0;34m(\u001b[0m\u001b[0marg\u001b[0m\u001b[0;34m)\u001b[0m\u001b[0;34m:\u001b[0m\u001b[0;34m\u001b[0m\u001b[0;34m\u001b[0m\u001b[0m\n",
      "\u001b[0;32m~/anaconda3/lib/python3.7/site-packages/IPython/core/magics/script.py\u001b[0m in \u001b[0;36mshebang\u001b[0;34m(self, line, cell)\u001b[0m\n\u001b[1;32m    243\u001b[0m             \u001b[0msys\u001b[0m\u001b[0;34m.\u001b[0m\u001b[0mstderr\u001b[0m\u001b[0;34m.\u001b[0m\u001b[0mflush\u001b[0m\u001b[0;34m(\u001b[0m\u001b[0;34m)\u001b[0m\u001b[0;34m\u001b[0m\u001b[0;34m\u001b[0m\u001b[0m\n\u001b[1;32m    244\u001b[0m         \u001b[0;32mif\u001b[0m \u001b[0margs\u001b[0m\u001b[0;34m.\u001b[0m\u001b[0mraise_error\u001b[0m \u001b[0;32mand\u001b[0m \u001b[0mp\u001b[0m\u001b[0;34m.\u001b[0m\u001b[0mreturncode\u001b[0m\u001b[0;34m!=\u001b[0m\u001b[0;36m0\u001b[0m\u001b[0;34m:\u001b[0m\u001b[0;34m\u001b[0m\u001b[0;34m\u001b[0m\u001b[0m\n\u001b[0;32m--> 245\u001b[0;31m             \u001b[0;32mraise\u001b[0m \u001b[0mCalledProcessError\u001b[0m\u001b[0;34m(\u001b[0m\u001b[0mp\u001b[0m\u001b[0;34m.\u001b[0m\u001b[0mreturncode\u001b[0m\u001b[0;34m,\u001b[0m \u001b[0mcell\u001b[0m\u001b[0;34m,\u001b[0m \u001b[0moutput\u001b[0m\u001b[0;34m=\u001b[0m\u001b[0mout\u001b[0m\u001b[0;34m,\u001b[0m \u001b[0mstderr\u001b[0m\u001b[0;34m=\u001b[0m\u001b[0merr\u001b[0m\u001b[0;34m)\u001b[0m\u001b[0;34m\u001b[0m\u001b[0;34m\u001b[0m\u001b[0m\n\u001b[0m\u001b[1;32m    246\u001b[0m \u001b[0;34m\u001b[0m\u001b[0m\n\u001b[1;32m    247\u001b[0m     \u001b[0;32mdef\u001b[0m \u001b[0m_run_script\u001b[0m\u001b[0;34m(\u001b[0m\u001b[0mself\u001b[0m\u001b[0;34m,\u001b[0m \u001b[0mp\u001b[0m\u001b[0;34m,\u001b[0m \u001b[0mcell\u001b[0m\u001b[0;34m,\u001b[0m \u001b[0mto_close\u001b[0m\u001b[0;34m)\u001b[0m\u001b[0;34m:\u001b[0m\u001b[0;34m\u001b[0m\u001b[0;34m\u001b[0m\u001b[0m\n",
      "\u001b[0;31mCalledProcessError\u001b[0m: Command 'b'\\nwget -nc -O news-final.csv http://archive.ics.uci.edu/ml/machine-learning-databases/00432/Data/News_Final.csv \\n\\nwget -nc -O facebook-microsoft.csv http://archive.ics.uci.edu/ml/machine-learning-databases/00432/Data/Facebook_Microsoft.csv\\nwget -nc -O googleplus-microsoft.csv http://archive.ics.uci.edu/ml/machine-learning-databases/00432/Data/GooglePlus_Microsoft.csv\\nwget -nc -O linkedin-microsoft.csv http://archive.ics.uci.edu/ml/machine-learning-databases/00432/Data/LinkedIn_Microsoft.csv\\n'' returned non-zero exit status 1."
     ]
    }
   ],
   "source": [
    "%%bash\n",
    "\n",
    "wget -nc -O news-final.csv http://archive.ics.uci.edu/ml/machine-learning-databases/00432/Data/News_Final.csv \n",
    "\n",
    "wget -nc -O facebook-microsoft.csv http://archive.ics.uci.edu/ml/machine-learning-databases/00432/Data/Facebook_Microsoft.csv\n",
    "wget -nc -O googleplus-microsoft.csv http://archive.ics.uci.edu/ml/machine-learning-databases/00432/Data/GooglePlus_Microsoft.csv\n",
    "wget -nc -O linkedin-microsoft.csv http://archive.ics.uci.edu/ml/machine-learning-databases/00432/Data/LinkedIn_Microsoft.csv\n"
   ]
  },
  {
   "cell_type": "markdown",
   "metadata": {},
   "source": [
    "### Load data and set index"
   ]
  },
  {
   "cell_type": "code",
   "execution_count": 91,
   "metadata": {},
   "outputs": [],
   "source": [
    "news = pd.read_csv('news-final.csv')\n",
    "news = news[news['Topic']=='microsoft']\n",
    "news = news.drop('Topic', 1)\n",
    "\n",
    "news['IDLink'] = news['IDLink'].astype(int)\n",
    "news = news.set_index('IDLink')\n",
    "\n",
    "\n",
    "facebook = pd.read_csv('facebook-microsoft.csv')\n",
    "facebook = facebook.set_index('IDLink')\n",
    "\n",
    "google = pd.read_csv('googleplus-microsoft.csv')\n",
    "google = google.set_index('IDLink')\n",
    "\n",
    "linkedin = pd.read_csv('linkedin-microsoft.csv')\n",
    "linkedin = linkedin.set_index('IDLink')\n"
   ]
  },
  {
   "cell_type": "code",
   "execution_count": 92,
   "metadata": {},
   "outputs": [
    {
     "data": {
      "text/html": [
       "<div>\n",
       "<style scoped>\n",
       "    .dataframe tbody tr th:only-of-type {\n",
       "        vertical-align: middle;\n",
       "    }\n",
       "\n",
       "    .dataframe tbody tr th {\n",
       "        vertical-align: top;\n",
       "    }\n",
       "\n",
       "    .dataframe thead th {\n",
       "        text-align: right;\n",
       "    }\n",
       "</style>\n",
       "<table border=\"1\" class=\"dataframe\">\n",
       "  <thead>\n",
       "    <tr style=\"text-align: right;\">\n",
       "      <th></th>\n",
       "      <th>Title</th>\n",
       "      <th>Headline</th>\n",
       "      <th>Source</th>\n",
       "      <th>PublishDate</th>\n",
       "      <th>SentimentTitle</th>\n",
       "      <th>SentimentHeadline</th>\n",
       "      <th>Facebook</th>\n",
       "      <th>GooglePlus</th>\n",
       "      <th>LinkedIn</th>\n",
       "    </tr>\n",
       "    <tr>\n",
       "      <th>IDLink</th>\n",
       "      <th></th>\n",
       "      <th></th>\n",
       "      <th></th>\n",
       "      <th></th>\n",
       "      <th></th>\n",
       "      <th></th>\n",
       "      <th></th>\n",
       "      <th></th>\n",
       "      <th></th>\n",
       "    </tr>\n",
       "  </thead>\n",
       "  <tbody>\n",
       "    <tr>\n",
       "      <th>27790</th>\n",
       "      <td>Intellitec Solutions to Host 13th Annual Sprin...</td>\n",
       "      <td>Over 100 attendees expected to see latest vers...</td>\n",
       "      <td>PRWeb</td>\n",
       "      <td>2015-03-01 00:19:00</td>\n",
       "      <td>-0.075378</td>\n",
       "      <td>0.036773</td>\n",
       "      <td>-1</td>\n",
       "      <td>-1</td>\n",
       "      <td>-1</td>\n",
       "    </tr>\n",
       "    <tr>\n",
       "      <th>27803</th>\n",
       "      <td>Microsoft's new Windows 10 ad targets Apple</td>\n",
       "      <td>New Delhi, Feb.29 : Technology giant Microsoft...</td>\n",
       "      <td>New Kerala</td>\n",
       "      <td>2015-03-01 01:32:00</td>\n",
       "      <td>-0.059536</td>\n",
       "      <td>-0.081715</td>\n",
       "      <td>-1</td>\n",
       "      <td>-1</td>\n",
       "      <td>-1</td>\n",
       "    </tr>\n",
       "    <tr>\n",
       "      <th>27813</th>\n",
       "      <td>Microsoft Project Centennial seen with “univer...</td>\n",
       "      <td>Microsoft may have burned off one bridge, but ...</td>\n",
       "      <td>SlashGear</td>\n",
       "      <td>2015-03-01 02:14:00</td>\n",
       "      <td>0.000000</td>\n",
       "      <td>0.002550</td>\n",
       "      <td>-1</td>\n",
       "      <td>-1</td>\n",
       "      <td>-1</td>\n",
       "    </tr>\n",
       "    <tr>\n",
       "      <th>27812</th>\n",
       "      <td>Microsoft sneaks onto Android while Android sn...</td>\n",
       "      <td>The platform battles are back MWC16 +Analysis ...</td>\n",
       "      <td>The Register</td>\n",
       "      <td>2015-03-01 02:15:00</td>\n",
       "      <td>0.000000</td>\n",
       "      <td>0.052670</td>\n",
       "      <td>-1</td>\n",
       "      <td>-1</td>\n",
       "      <td>-1</td>\n",
       "    </tr>\n",
       "    <tr>\n",
       "      <th>27814</th>\n",
       "      <td>HoloLens dev edition costs £2,000 with new Con...</td>\n",
       "      <td>Microsoft’s AR headset is being made available...</td>\n",
       "      <td>Metro</td>\n",
       "      <td>2015-03-01 02:18:00</td>\n",
       "      <td>0.000000</td>\n",
       "      <td>0.079434</td>\n",
       "      <td>-1</td>\n",
       "      <td>-1</td>\n",
       "      <td>-1</td>\n",
       "    </tr>\n",
       "  </tbody>\n",
       "</table>\n",
       "</div>"
      ],
      "text/plain": [
       "                                                    Title  \\\n",
       "IDLink                                                      \n",
       "27790   Intellitec Solutions to Host 13th Annual Sprin...   \n",
       "27803         Microsoft's new Windows 10 ad targets Apple   \n",
       "27813   Microsoft Project Centennial seen with “univer...   \n",
       "27812   Microsoft sneaks onto Android while Android sn...   \n",
       "27814   HoloLens dev edition costs £2,000 with new Con...   \n",
       "\n",
       "                                                 Headline        Source  \\\n",
       "IDLink                                                                    \n",
       "27790   Over 100 attendees expected to see latest vers...         PRWeb   \n",
       "27803   New Delhi, Feb.29 : Technology giant Microsoft...    New Kerala   \n",
       "27813   Microsoft may have burned off one bridge, but ...     SlashGear   \n",
       "27812   The platform battles are back MWC16 +Analysis ...  The Register   \n",
       "27814   Microsoft’s AR headset is being made available...         Metro   \n",
       "\n",
       "                PublishDate  SentimentTitle  SentimentHeadline  Facebook  \\\n",
       "IDLink                                                                     \n",
       "27790   2015-03-01 00:19:00       -0.075378           0.036773        -1   \n",
       "27803   2015-03-01 01:32:00       -0.059536          -0.081715        -1   \n",
       "27813   2015-03-01 02:14:00        0.000000           0.002550        -1   \n",
       "27812   2015-03-01 02:15:00        0.000000           0.052670        -1   \n",
       "27814   2015-03-01 02:18:00        0.000000           0.079434        -1   \n",
       "\n",
       "        GooglePlus  LinkedIn  \n",
       "IDLink                        \n",
       "27790           -1        -1  \n",
       "27803           -1        -1  \n",
       "27813           -1        -1  \n",
       "27812           -1        -1  \n",
       "27814           -1        -1  "
      ]
     },
     "execution_count": 92,
     "metadata": {},
     "output_type": "execute_result"
    }
   ],
   "source": [
    "news.head()"
   ]
  },
  {
   "cell_type": "markdown",
   "metadata": {},
   "source": [
    "### Restrict to articles appearing on all 3 sites"
   ]
  },
  {
   "cell_type": "code",
   "execution_count": 93,
   "metadata": {},
   "outputs": [],
   "source": [
    "posted_everywhere = news[['Facebook', 'GooglePlus', 'LinkedIn']].min(axis=1) > -1\n",
    "\n",
    "news = news[posted_everywhere]"
   ]
  },
  {
   "cell_type": "code",
   "execution_count": 94,
   "metadata": {},
   "outputs": [
    {
     "data": {
      "text/html": [
       "<div>\n",
       "<style scoped>\n",
       "    .dataframe tbody tr th:only-of-type {\n",
       "        vertical-align: middle;\n",
       "    }\n",
       "\n",
       "    .dataframe tbody tr th {\n",
       "        vertical-align: top;\n",
       "    }\n",
       "\n",
       "    .dataframe thead th {\n",
       "        text-align: right;\n",
       "    }\n",
       "</style>\n",
       "<table border=\"1\" class=\"dataframe\">\n",
       "  <thead>\n",
       "    <tr style=\"text-align: right;\">\n",
       "      <th></th>\n",
       "      <th>Title</th>\n",
       "      <th>Headline</th>\n",
       "      <th>Source</th>\n",
       "      <th>PublishDate</th>\n",
       "      <th>SentimentTitle</th>\n",
       "      <th>SentimentHeadline</th>\n",
       "      <th>Facebook</th>\n",
       "      <th>GooglePlus</th>\n",
       "      <th>LinkedIn</th>\n",
       "    </tr>\n",
       "    <tr>\n",
       "      <th>IDLink</th>\n",
       "      <th></th>\n",
       "      <th></th>\n",
       "      <th></th>\n",
       "      <th></th>\n",
       "      <th></th>\n",
       "      <th></th>\n",
       "      <th></th>\n",
       "      <th></th>\n",
       "      <th></th>\n",
       "    </tr>\n",
       "  </thead>\n",
       "  <tbody>\n",
       "    <tr>\n",
       "      <th>311</th>\n",
       "      <td>Microsoft offering £100 discount on original B...</td>\n",
       "      <td>Just ahead of the market rollout of Microsoft'...</td>\n",
       "      <td>International Business Times via Yahoo UK &amp; Ir...</td>\n",
       "      <td>2015-11-08 05:25:00</td>\n",
       "      <td>0.000000</td>\n",
       "      <td>-0.132812</td>\n",
       "      <td>0</td>\n",
       "      <td>0</td>\n",
       "      <td>0</td>\n",
       "    </tr>\n",
       "    <tr>\n",
       "      <th>307</th>\n",
       "      <td>Microsoft scales back free online storage plans</td>\n",
       "      <td>NEW YORK — Microsoft is getting stingy with on...</td>\n",
       "      <td>The Columbian</td>\n",
       "      <td>2015-11-08 06:54:00</td>\n",
       "      <td>0.106303</td>\n",
       "      <td>-0.207333</td>\n",
       "      <td>0</td>\n",
       "      <td>0</td>\n",
       "      <td>0</td>\n",
       "    </tr>\n",
       "    <tr>\n",
       "      <th>299</th>\n",
       "      <td>Microsoft’s OneDrive debacle shows its cloud c...</td>\n",
       "      <td>When Microsoft announced earlier this week tha...</td>\n",
       "      <td>Digital Trends via Yahoo! News</td>\n",
       "      <td>2015-11-08 12:15:00</td>\n",
       "      <td>-0.166139</td>\n",
       "      <td>-0.259052</td>\n",
       "      <td>6</td>\n",
       "      <td>0</td>\n",
       "      <td>1</td>\n",
       "    </tr>\n",
       "    <tr>\n",
       "      <th>328</th>\n",
       "      <td>Microsoft to play a big part in Digital India</td>\n",
       "      <td>Bhaskar Pramanik, Chairman, Microsoft India, s...</td>\n",
       "      <td>DNA India</td>\n",
       "      <td>2015-11-08 16:47:00</td>\n",
       "      <td>-0.018326</td>\n",
       "      <td>0.062500</td>\n",
       "      <td>11</td>\n",
       "      <td>1</td>\n",
       "      <td>1</td>\n",
       "    </tr>\n",
       "    <tr>\n",
       "      <th>587</th>\n",
       "      <td>Microsoft risks IT ire with Windows 10 update ...</td>\n",
       "      <td>Microsoft has made it clear that it will take...</td>\n",
       "      <td>MIS Asia</td>\n",
       "      <td>2015-11-08 18:54:00</td>\n",
       "      <td>-0.165728</td>\n",
       "      <td>0.146390</td>\n",
       "      <td>89</td>\n",
       "      <td>0</td>\n",
       "      <td>0</td>\n",
       "    </tr>\n",
       "  </tbody>\n",
       "</table>\n",
       "</div>"
      ],
      "text/plain": [
       "                                                    Title  \\\n",
       "IDLink                                                      \n",
       "311     Microsoft offering £100 discount on original B...   \n",
       "307       Microsoft scales back free online storage plans   \n",
       "299     Microsoft’s OneDrive debacle shows its cloud c...   \n",
       "328         Microsoft to play a big part in Digital India   \n",
       "587     Microsoft risks IT ire with Windows 10 update ...   \n",
       "\n",
       "                                                 Headline  \\\n",
       "IDLink                                                      \n",
       "311     Just ahead of the market rollout of Microsoft'...   \n",
       "307     NEW YORK — Microsoft is getting stingy with on...   \n",
       "299     When Microsoft announced earlier this week tha...   \n",
       "328     Bhaskar Pramanik, Chairman, Microsoft India, s...   \n",
       "587      Microsoft has made it clear that it will take...   \n",
       "\n",
       "                                                   Source  \\\n",
       "IDLink                                                      \n",
       "311     International Business Times via Yahoo UK & Ir...   \n",
       "307                                         The Columbian   \n",
       "299                        Digital Trends via Yahoo! News   \n",
       "328                                             DNA India   \n",
       "587                                              MIS Asia   \n",
       "\n",
       "                PublishDate  SentimentTitle  SentimentHeadline  Facebook  \\\n",
       "IDLink                                                                     \n",
       "311     2015-11-08 05:25:00        0.000000          -0.132812         0   \n",
       "307     2015-11-08 06:54:00        0.106303          -0.207333         0   \n",
       "299     2015-11-08 12:15:00       -0.166139          -0.259052         6   \n",
       "328     2015-11-08 16:47:00       -0.018326           0.062500        11   \n",
       "587     2015-11-08 18:54:00       -0.165728           0.146390        89   \n",
       "\n",
       "        GooglePlus  LinkedIn  \n",
       "IDLink                        \n",
       "311              0         0  \n",
       "307              0         0  \n",
       "299              0         1  \n",
       "328              1         1  \n",
       "587              0         0  "
      ]
     },
     "execution_count": 94,
     "metadata": {},
     "output_type": "execute_result"
    }
   ],
   "source": [
    "news.head()"
   ]
  },
  {
   "cell_type": "markdown",
   "metadata": {},
   "source": [
    "### Restrict to sources with at least 50 articles"
   ]
  },
  {
   "cell_type": "code",
   "execution_count": 95,
   "metadata": {},
   "outputs": [
    {
     "name": "stdout",
     "output_type": "stream",
     "text": [
      "Number of sources with at least 50 articles: 75\n"
     ]
    }
   ],
   "source": [
    "greater_than_50 = (news['Source'].value_counts() > 50)\n",
    "\n",
    "sources_50 = greater_than_50[greater_than_50 > 0].index\n",
    "\n",
    "print(\"Number of sources with at least 50 articles: {}\".format(greater_than_50.sum()))\n",
    "\n",
    "news = news[news['Source'].isin(sources_50)]\n"
   ]
  },
  {
   "cell_type": "markdown",
   "metadata": {},
   "source": [
    "### Process dates"
   ]
  },
  {
   "cell_type": "code",
   "execution_count": 96,
   "metadata": {},
   "outputs": [
    {
     "data": {
      "text/html": [
       "<div>\n",
       "<style scoped>\n",
       "    .dataframe tbody tr th:only-of-type {\n",
       "        vertical-align: middle;\n",
       "    }\n",
       "\n",
       "    .dataframe tbody tr th {\n",
       "        vertical-align: top;\n",
       "    }\n",
       "\n",
       "    .dataframe thead th {\n",
       "        text-align: right;\n",
       "    }\n",
       "</style>\n",
       "<table border=\"1\" class=\"dataframe\">\n",
       "  <thead>\n",
       "    <tr style=\"text-align: right;\">\n",
       "      <th></th>\n",
       "      <th>Title</th>\n",
       "      <th>Headline</th>\n",
       "      <th>Source</th>\n",
       "      <th>PublishDate</th>\n",
       "      <th>SentimentTitle</th>\n",
       "      <th>SentimentHeadline</th>\n",
       "      <th>Facebook</th>\n",
       "      <th>GooglePlus</th>\n",
       "      <th>LinkedIn</th>\n",
       "    </tr>\n",
       "    <tr>\n",
       "      <th>IDLink</th>\n",
       "      <th></th>\n",
       "      <th></th>\n",
       "      <th></th>\n",
       "      <th></th>\n",
       "      <th></th>\n",
       "      <th></th>\n",
       "      <th></th>\n",
       "      <th></th>\n",
       "      <th></th>\n",
       "    </tr>\n",
       "  </thead>\n",
       "  <tbody>\n",
       "    <tr>\n",
       "      <th>311</th>\n",
       "      <td>Microsoft offering £100 discount on original B...</td>\n",
       "      <td>Just ahead of the market rollout of Microsoft'...</td>\n",
       "      <td>International Business Times via Yahoo UK &amp; Ir...</td>\n",
       "      <td>2015-11-08 05:25:00</td>\n",
       "      <td>0.000000</td>\n",
       "      <td>-0.132812</td>\n",
       "      <td>0</td>\n",
       "      <td>0</td>\n",
       "      <td>0</td>\n",
       "    </tr>\n",
       "    <tr>\n",
       "      <th>299</th>\n",
       "      <td>Microsoft’s OneDrive debacle shows its cloud c...</td>\n",
       "      <td>When Microsoft announced earlier this week tha...</td>\n",
       "      <td>Digital Trends via Yahoo! News</td>\n",
       "      <td>2015-11-08 12:15:00</td>\n",
       "      <td>-0.166139</td>\n",
       "      <td>-0.259052</td>\n",
       "      <td>6</td>\n",
       "      <td>0</td>\n",
       "      <td>1</td>\n",
       "    </tr>\n",
       "    <tr>\n",
       "      <th>587</th>\n",
       "      <td>Microsoft risks IT ire with Windows 10 update ...</td>\n",
       "      <td>Microsoft has made it clear that it will take...</td>\n",
       "      <td>MIS Asia</td>\n",
       "      <td>2015-11-08 18:54:00</td>\n",
       "      <td>-0.165728</td>\n",
       "      <td>0.146390</td>\n",
       "      <td>89</td>\n",
       "      <td>0</td>\n",
       "      <td>0</td>\n",
       "    </tr>\n",
       "    <tr>\n",
       "      <th>476</th>\n",
       "      <td>Microsoft readies its next major Windows 10 Fa...</td>\n",
       "      <td>Microsoft is on the verge of issuing its first...</td>\n",
       "      <td>SiliconANGLE</td>\n",
       "      <td>2015-11-08 21:50:00</td>\n",
       "      <td>0.004360</td>\n",
       "      <td>0.210430</td>\n",
       "      <td>4</td>\n",
       "      <td>2</td>\n",
       "      <td>4</td>\n",
       "    </tr>\n",
       "    <tr>\n",
       "      <th>116</th>\n",
       "      <td>Microsoft Analytics, Intel IoT, Spokeo Vs. Rob...</td>\n",
       "      <td>Microsoft updated its CRM and SQL offerings an...</td>\n",
       "      <td>InformationWeek</td>\n",
       "      <td>2015-11-09 00:00:00</td>\n",
       "      <td>0.037881</td>\n",
       "      <td>0.225037</td>\n",
       "      <td>49</td>\n",
       "      <td>16</td>\n",
       "      <td>57</td>\n",
       "    </tr>\n",
       "  </tbody>\n",
       "</table>\n",
       "</div>"
      ],
      "text/plain": [
       "                                                    Title  \\\n",
       "IDLink                                                      \n",
       "311     Microsoft offering £100 discount on original B...   \n",
       "299     Microsoft’s OneDrive debacle shows its cloud c...   \n",
       "587     Microsoft risks IT ire with Windows 10 update ...   \n",
       "476     Microsoft readies its next major Windows 10 Fa...   \n",
       "116     Microsoft Analytics, Intel IoT, Spokeo Vs. Rob...   \n",
       "\n",
       "                                                 Headline  \\\n",
       "IDLink                                                      \n",
       "311     Just ahead of the market rollout of Microsoft'...   \n",
       "299     When Microsoft announced earlier this week tha...   \n",
       "587      Microsoft has made it clear that it will take...   \n",
       "476     Microsoft is on the verge of issuing its first...   \n",
       "116     Microsoft updated its CRM and SQL offerings an...   \n",
       "\n",
       "                                                   Source  \\\n",
       "IDLink                                                      \n",
       "311     International Business Times via Yahoo UK & Ir...   \n",
       "299                        Digital Trends via Yahoo! News   \n",
       "587                                              MIS Asia   \n",
       "476                                          SiliconANGLE   \n",
       "116                                       InformationWeek   \n",
       "\n",
       "                PublishDate  SentimentTitle  SentimentHeadline  Facebook  \\\n",
       "IDLink                                                                     \n",
       "311     2015-11-08 05:25:00        0.000000          -0.132812         0   \n",
       "299     2015-11-08 12:15:00       -0.166139          -0.259052         6   \n",
       "587     2015-11-08 18:54:00       -0.165728           0.146390        89   \n",
       "476     2015-11-08 21:50:00        0.004360           0.210430         4   \n",
       "116     2015-11-09 00:00:00        0.037881           0.225037        49   \n",
       "\n",
       "        GooglePlus  LinkedIn  \n",
       "IDLink                        \n",
       "311              0         0  \n",
       "299              0         1  \n",
       "587              0         0  \n",
       "476              2         4  \n",
       "116             16        57  "
      ]
     },
     "execution_count": 96,
     "metadata": {},
     "output_type": "execute_result"
    }
   ],
   "source": [
    "news.head()"
   ]
  },
  {
   "cell_type": "code",
   "execution_count": 97,
   "metadata": {},
   "outputs": [],
   "source": [
    "news.loc[:, 'PublishDate'] = pd.to_datetime(news['PublishDate'])\n",
    "\n",
    "news.loc[:, 'Year'] = news['PublishDate'].dt.year\n",
    "news.loc[:, 'Month'] = news['PublishDate'].dt.month\n",
    "news.loc[:, 'DayOfWeek'] = news['PublishDate'].dt.weekday\n",
    "news.loc[:, 'Hour'] = news['PublishDate'].dt.hour"
   ]
  },
  {
   "cell_type": "code",
   "execution_count": 98,
   "metadata": {},
   "outputs": [],
   "source": [
    "import datetime"
   ]
  },
  {
   "cell_type": "code",
   "execution_count": 99,
   "metadata": {},
   "outputs": [],
   "source": [
    "news['PublishDate'].max()\n",
    "\n",
    "may_1_2016 = datetime.datetime(2016, 5, 1)\n",
    "\n",
    "news_historical = news[news['PublishDate'] <= may_1_2016]\n",
    "news_new = news[news['PublishDate'] > may_1_2016]"
   ]
  },
  {
   "cell_type": "code",
   "execution_count": null,
   "metadata": {},
   "outputs": [],
   "source": []
  },
  {
   "cell_type": "code",
   "execution_count": 100,
   "metadata": {},
   "outputs": [],
   "source": [
    "news_new.to_csv('news-new.csv')"
   ]
  },
  {
   "cell_type": "markdown",
   "metadata": {},
   "source": [
    "### Summary viz"
   ]
  },
  {
   "cell_type": "code",
   "execution_count": 101,
   "metadata": {},
   "outputs": [
    {
     "data": {
      "text/html": [
       "<div>\n",
       "<style scoped>\n",
       "    .dataframe tbody tr th:only-of-type {\n",
       "        vertical-align: middle;\n",
       "    }\n",
       "\n",
       "    .dataframe tbody tr th {\n",
       "        vertical-align: top;\n",
       "    }\n",
       "\n",
       "    .dataframe thead th {\n",
       "        text-align: right;\n",
       "    }\n",
       "</style>\n",
       "<table border=\"1\" class=\"dataframe\">\n",
       "  <thead>\n",
       "    <tr style=\"text-align: right;\">\n",
       "      <th></th>\n",
       "      <th>Title</th>\n",
       "      <th>Headline</th>\n",
       "      <th>Source</th>\n",
       "      <th>PublishDate</th>\n",
       "      <th>SentimentTitle</th>\n",
       "      <th>SentimentHeadline</th>\n",
       "      <th>Facebook</th>\n",
       "      <th>GooglePlus</th>\n",
       "      <th>LinkedIn</th>\n",
       "      <th>Year</th>\n",
       "      <th>Month</th>\n",
       "      <th>DayOfWeek</th>\n",
       "      <th>Hour</th>\n",
       "    </tr>\n",
       "    <tr>\n",
       "      <th>IDLink</th>\n",
       "      <th></th>\n",
       "      <th></th>\n",
       "      <th></th>\n",
       "      <th></th>\n",
       "      <th></th>\n",
       "      <th></th>\n",
       "      <th></th>\n",
       "      <th></th>\n",
       "      <th></th>\n",
       "      <th></th>\n",
       "      <th></th>\n",
       "      <th></th>\n",
       "      <th></th>\n",
       "    </tr>\n",
       "  </thead>\n",
       "  <tbody>\n",
       "    <tr>\n",
       "      <th>311</th>\n",
       "      <td>Microsoft offering £100 discount on original B...</td>\n",
       "      <td>Just ahead of the market rollout of Microsoft'...</td>\n",
       "      <td>International Business Times via Yahoo UK &amp; Ir...</td>\n",
       "      <td>2015-11-08 05:25:00</td>\n",
       "      <td>0.000000</td>\n",
       "      <td>-0.132812</td>\n",
       "      <td>0</td>\n",
       "      <td>0</td>\n",
       "      <td>0</td>\n",
       "      <td>2015</td>\n",
       "      <td>11</td>\n",
       "      <td>6</td>\n",
       "      <td>5</td>\n",
       "    </tr>\n",
       "    <tr>\n",
       "      <th>299</th>\n",
       "      <td>Microsoft’s OneDrive debacle shows its cloud c...</td>\n",
       "      <td>When Microsoft announced earlier this week tha...</td>\n",
       "      <td>Digital Trends via Yahoo! News</td>\n",
       "      <td>2015-11-08 12:15:00</td>\n",
       "      <td>-0.166139</td>\n",
       "      <td>-0.259052</td>\n",
       "      <td>6</td>\n",
       "      <td>0</td>\n",
       "      <td>1</td>\n",
       "      <td>2015</td>\n",
       "      <td>11</td>\n",
       "      <td>6</td>\n",
       "      <td>12</td>\n",
       "    </tr>\n",
       "  </tbody>\n",
       "</table>\n",
       "</div>"
      ],
      "text/plain": [
       "                                                    Title  \\\n",
       "IDLink                                                      \n",
       "311     Microsoft offering £100 discount on original B...   \n",
       "299     Microsoft’s OneDrive debacle shows its cloud c...   \n",
       "\n",
       "                                                 Headline  \\\n",
       "IDLink                                                      \n",
       "311     Just ahead of the market rollout of Microsoft'...   \n",
       "299     When Microsoft announced earlier this week tha...   \n",
       "\n",
       "                                                   Source         PublishDate  \\\n",
       "IDLink                                                                          \n",
       "311     International Business Times via Yahoo UK & Ir... 2015-11-08 05:25:00   \n",
       "299                        Digital Trends via Yahoo! News 2015-11-08 12:15:00   \n",
       "\n",
       "        SentimentTitle  SentimentHeadline  Facebook  GooglePlus  LinkedIn  \\\n",
       "IDLink                                                                      \n",
       "311           0.000000          -0.132812         0           0         0   \n",
       "299          -0.166139          -0.259052         6           0         1   \n",
       "\n",
       "        Year  Month  DayOfWeek  Hour  \n",
       "IDLink                                \n",
       "311     2015     11          6     5  \n",
       "299     2015     11          6    12  "
      ]
     },
     "execution_count": 101,
     "metadata": {},
     "output_type": "execute_result"
    }
   ],
   "source": [
    "news.head(2)"
   ]
  },
  {
   "cell_type": "markdown",
   "metadata": {},
   "source": [
    "**Year published**"
   ]
  },
  {
   "cell_type": "code",
   "execution_count": 102,
   "metadata": {},
   "outputs": [
    {
     "data": {
      "text/plain": [
       "<matplotlib.axes._subplots.AxesSubplot at 0x1a27b44b90>"
      ]
     },
     "execution_count": 102,
     "metadata": {},
     "output_type": "execute_result"
    },
    {
     "data": {
      "image/png": "[encoded data removed]",
      "text/plain": [
       "<Figure size 432x288 with 1 Axes>"
      ]
     },
     "metadata": {
      "needs_background": "light"
     },
     "output_type": "display_data"
    }
   ],
   "source": [
    "news['Year'].value_counts().plot.bar()"
   ]
  },
  {
   "cell_type": "markdown",
   "metadata": {},
   "source": [
    "**Day of week**"
   ]
  },
  {
   "cell_type": "code",
   "execution_count": 103,
   "metadata": {},
   "outputs": [
    {
     "data": {
      "text/plain": [
       "<matplotlib.axes._subplots.AxesSubplot at 0x11a423750>"
      ]
     },
     "execution_count": 103,
     "metadata": {},
     "output_type": "execute_result"
    },
    {
     "data": {
      "image/png": "[encoded data removed]",
      "text/plain": [
       "<Figure size 432x288 with 1 Axes>"
      ]
     },
     "metadata": {
      "needs_background": "light"
     },
     "output_type": "display_data"
    }
   ],
   "source": [
    "news['PublishDate'].dt.weekday.value_counts().plot.bar()"
   ]
  },
  {
   "cell_type": "markdown",
   "metadata": {},
   "source": [
    "**Sentiment**"
   ]
  },
  {
   "cell_type": "code",
   "execution_count": 105,
   "metadata": {},
   "outputs": [],
   "source": [
    "news['ones'] = 1"
   ]
  },
  {
   "cell_type": "code",
   "execution_count": 106,
   "metadata": {},
   "outputs": [
    {
     "data": {
      "text/plain": [
       "<matplotlib.lines.Line2D at 0x11fa44d10>"
      ]
     },
     "execution_count": 106,
     "metadata": {},
     "output_type": "execute_result"
    },
    {
     "data": {
      "image/png": "[encoded data removed]",
      "text/plain": [
       "<Figure size 1008x36 with 1 Axes>"
      ]
     },
     "metadata": {
      "needs_background": "light"
     },
     "output_type": "display_data"
    }
   ],
   "source": [
    "news.plot.scatter('SentimentTitle', 'ones', alpha=0.1, figsize=(14, 0.5))\n",
    "\n",
    "plt.axvline(news['SentimentTitle'].mean(), alpha = 0.4, ls='--')"
   ]
  },
  {
   "cell_type": "code",
   "execution_count": 107,
   "metadata": {},
   "outputs": [
    {
     "data": {
      "text/plain": [
       "<matplotlib.lines.Line2D at 0x1a279c3650>"
      ]
     },
     "execution_count": 107,
     "metadata": {},
     "output_type": "execute_result"
    },
    {
     "data": {
      "image/png": "[encoded data removed]",
      "text/plain": [
       "<Figure size 1008x36 with 1 Axes>"
      ]
     },
     "metadata": {
      "needs_background": "light"
     },
     "output_type": "display_data"
    }
   ],
   "source": [
    "news.plot.scatter('SentimentHeadline', 'ones', alpha=0.1, figsize=(14, 0.5))\n",
    "\n",
    "plt.axvline(news['SentimentHeadline'].mean(), alpha = 0.4, ls='--')"
   ]
  },
  {
   "cell_type": "markdown",
   "metadata": {},
   "source": [
    "## ML"
   ]
  },
  {
   "cell_type": "code",
   "execution_count": 79,
   "metadata": {},
   "outputs": [],
   "source": [
    "from sklearn.linear_model import LinearRegression, Ridge\n",
    "from sklearn.preprocessing import OneHotEncoder\n",
    "from sklearn.pipeline import Pipeline, FeatureUnion\n",
    "from sklearn import base"
   ]
  },
  {
   "cell_type": "code",
   "execution_count": 80,
   "metadata": {},
   "outputs": [],
   "source": [
    "class ColumnSelectTransformer(base.BaseEstimator, base.TransformerMixin):\n",
    "    \n",
    "    def __init__(self, col_names):\n",
    "        self.col_names = col_names  # We will need these in transform()\n",
    "    \n",
    "    def fit(self, X, y=None):\n",
    "        # This transformer doesn't need to learn anything about the data,\n",
    "        # so it can just return self without any further processing\n",
    "        return self\n",
    "    \n",
    "    def transform(self, X):\n",
    "        # Return an array with the same number of rows as X and one\n",
    "        # column for each in self.col_names\n",
    "        return X[self.col_names].values  #REMOVE"
   ]
  },
  {
   "cell_type": "code",
   "execution_count": 81,
   "metadata": {},
   "outputs": [],
   "source": [
    "df = news_historical.drop(['PublishDate', 'Title', 'Headline'], 1)"
   ]
  },
  {
   "cell_type": "code",
   "execution_count": 82,
   "metadata": {},
   "outputs": [
    {
     "data": {
      "text/plain": [
       "<7941x101 sparse matrix of type '<class 'numpy.float64'>'\n",
       "\twith 30127 stored elements in Compressed Sparse Row format>"
      ]
     },
     "execution_count": 82,
     "metadata": {},
     "output_type": "execute_result"
    }
   ],
   "source": [
    "source_pipe = Pipeline([\n",
    "    ('cst', ColumnSelectTransformer(['Source'])),\n",
    "    ('oh', OneHotEncoder())\n",
    "]) \n",
    "\n",
    "source_pipe.fit_transform(df)\n",
    "\n",
    "hour_pipe = Pipeline([\n",
    "    ('cst', ColumnSelectTransformer(['Hour'])),\n",
    "    ('oh', OneHotEncoder())\n",
    "]) \n",
    "\n",
    "sentiment_pipe = Pipeline([\n",
    "    ('cst', ColumnSelectTransformer(['SentimentTitle', 'SentimentHeadline']))\n",
    "])\n",
    "\n",
    "features = FeatureUnion([\n",
    "    ('source', source_pipe),\n",
    "    ('hour', hour_pipe),\n",
    "    ('sentiment', sentiment_pipe)\n",
    "])\n",
    "\n",
    "\n",
    "features.fit_transform(df)"
   ]
  },
  {
   "cell_type": "code",
   "execution_count": null,
   "metadata": {},
   "outputs": [],
   "source": []
  },
  {
   "cell_type": "code",
   "execution_count": 83,
   "metadata": {},
   "outputs": [
    {
     "data": {
      "text/plain": [
       "Pipeline(memory=None,\n",
       "         steps=[('features',\n",
       "                 FeatureUnion(n_jobs=None,\n",
       "                              transformer_list=[('source',\n",
       "                                                 Pipeline(memory=None,\n",
       "                                                          steps=[('cst',\n",
       "                                                                  ColumnSelectTransformer(col_names=['Source'])),\n",
       "                                                                 ('oh',\n",
       "                                                                  OneHotEncoder(categories='auto',\n",
       "                                                                                drop=None,\n",
       "                                                                                dtype=<class 'numpy.float64'>,\n",
       "                                                                                handle_unknown='error',\n",
       "                                                                                sparse=True))],\n",
       "                                                          verbose=False)),\n",
       "                                                ('hour',\n",
       "                                                 Pipeline(memory=None,\n",
       "                                                          steps=[('cst',\n",
       "                                                                  C...\n",
       "                                                                                dtype=<class 'numpy.float64'>,\n",
       "                                                                                handle_unknown='error',\n",
       "                                                                                sparse=True))],\n",
       "                                                          verbose=False)),\n",
       "                                                ('sentiment',\n",
       "                                                 Pipeline(memory=None,\n",
       "                                                          steps=[('cst',\n",
       "                                                                  ColumnSelectTransformer(col_names=['SentimentTitle',\n",
       "                                                                                                     'SentimentHeadline']))],\n",
       "                                                          verbose=False))],\n",
       "                              transformer_weights=None, verbose=False)),\n",
       "                ('model',\n",
       "                 LinearRegression(copy_X=True, fit_intercept=True, n_jobs=None,\n",
       "                                  normalize=False))],\n",
       "         verbose=False)"
      ]
     },
     "execution_count": 83,
     "metadata": {},
     "output_type": "execute_result"
    }
   ],
   "source": [
    "facebook_model = Pipeline([\n",
    "    ('features', features),\n",
    "    ('model', LinearRegression())\n",
    "])\n",
    "\n",
    "facebook_model.fit(df, df['Facebook'])\n",
    "\n",
    "google_model = Pipeline([\n",
    "    ('features', features),\n",
    "    ('model', LinearRegression())\n",
    "])\n",
    "\n",
    "google_model.fit(df, df['GooglePlus'])\n",
    "\n",
    "linkedin_model = Pipeline([\n",
    "    ('features', features),\n",
    "    ('model', LinearRegression())\n",
    "])\n",
    "\n",
    "linkedin_model.fit(df, df['LinkedIn'])"
   ]
  },
  {
   "cell_type": "markdown",
   "metadata": {},
   "source": [
    "## Validate models"
   ]
  },
  {
   "cell_type": "code",
   "execution_count": 84,
   "metadata": {},
   "outputs": [],
   "source": [
    "df_new = news_new"
   ]
  },
  {
   "cell_type": "code",
   "execution_count": 108,
   "metadata": {},
   "outputs": [
    {
     "name": "stdout",
     "output_type": "stream",
     "text": [
      "Facebook\n",
      "training: 0.0776331812620148\n",
      "testing: -0.05171044995624863\n"
     ]
    }
   ],
   "source": [
    "print('Facebook')\n",
    "print('training: {}'.format(facebook_model.score(df, df['Facebook'])))\n",
    "print('testing: {}'.format(facebook_model.score(df_new, df_new['Facebook'])))"
   ]
  },
  {
   "cell_type": "code",
   "execution_count": 109,
   "metadata": {
    "scrolled": true
   },
   "outputs": [
    {
     "name": "stdout",
     "output_type": "stream",
     "text": [
      "GooglePlus\n",
      "training: 0.1376722439961484\n",
      "testing: 0.15523238347408452\n"
     ]
    }
   ],
   "source": [
    "print('GooglePlus')\n",
    "print('training: {}'.format(google_model.score(df, df['GooglePlus'])))\n",
    "print('testing: {}'.format(google_model.score(df_new, df_new['GooglePlus'])))"
   ]
  },
  {
   "cell_type": "code",
   "execution_count": 110,
   "metadata": {},
   "outputs": [
    {
     "name": "stdout",
     "output_type": "stream",
     "text": [
      "LinkedIn\n",
      "training: 0.18848487805116754\n",
      "testing: 0.1992734891028325\n"
     ]
    }
   ],
   "source": [
    "print('LinkedIn')\n",
    "print('training: {}'.format(linkedin_model.score(df, df['LinkedIn'])))\n",
    "print('testing: {}'.format(linkedin_model.score(df_new, df_new['LinkedIn'])))"
   ]
  },
  {
   "cell_type": "markdown",
   "metadata": {},
   "source": [
    "## Use models"
   ]
  },
  {
   "cell_type": "code",
   "execution_count": 111,
   "metadata": {},
   "outputs": [],
   "source": [
    "facebook_predict = facebook_model.predict(df_new)\n",
    "\n",
    "google_predict = google_model.predict(df_new)\n",
    "\n",
    "linkedin_predict = linkedin_model.predict(df_new)"
   ]
  },
  {
   "cell_type": "code",
   "execution_count": 112,
   "metadata": {},
   "outputs": [],
   "source": [
    "df_new['FacebookPrediction'] = facebook_predict\n",
    "\n",
    "df_new['GooglePrediction'] = google_predict\n",
    "\n",
    "df_new['LinkedInPrediction'] = linkedin_predict"
   ]
  },
  {
   "cell_type": "markdown",
   "metadata": {},
   "source": [
    "### Compare predicted resutls"
   ]
  },
  {
   "cell_type": "code",
   "execution_count": 114,
   "metadata": {},
   "outputs": [
    {
     "data": {
      "text/html": [
       "<div>\n",
       "<style scoped>\n",
       "    .dataframe tbody tr th:only-of-type {\n",
       "        vertical-align: middle;\n",
       "    }\n",
       "\n",
       "    .dataframe tbody tr th {\n",
       "        vertical-align: top;\n",
       "    }\n",
       "\n",
       "    .dataframe thead th {\n",
       "        text-align: right;\n",
       "    }\n",
       "</style>\n",
       "<table border=\"1\" class=\"dataframe\">\n",
       "  <thead>\n",
       "    <tr style=\"text-align: right;\">\n",
       "      <th></th>\n",
       "      <th>Title</th>\n",
       "      <th>Source</th>\n",
       "      <th>PublishDate</th>\n",
       "      <th>Facebook</th>\n",
       "      <th>FacebookPrediction</th>\n",
       "      <th>GooglePlus</th>\n",
       "      <th>GooglePrediction</th>\n",
       "      <th>LinkedIn</th>\n",
       "      <th>LinkedInPrediction</th>\n",
       "    </tr>\n",
       "    <tr>\n",
       "      <th>IDLink</th>\n",
       "      <th></th>\n",
       "      <th></th>\n",
       "      <th></th>\n",
       "      <th></th>\n",
       "      <th></th>\n",
       "      <th></th>\n",
       "      <th></th>\n",
       "      <th></th>\n",
       "      <th></th>\n",
       "    </tr>\n",
       "  </thead>\n",
       "  <tbody>\n",
       "    <tr>\n",
       "      <th>46462</th>\n",
       "      <td>Get a $50 Microsoft Store gift card with Xbox ...</td>\n",
       "      <td>Windows Central</td>\n",
       "      <td>2016-05-01 08:47:22</td>\n",
       "      <td>9</td>\n",
       "      <td>11.570160</td>\n",
       "      <td>2</td>\n",
       "      <td>2.577800</td>\n",
       "      <td>1</td>\n",
       "      <td>-7.440152</td>\n",
       "    </tr>\n",
       "    <tr>\n",
       "      <th>46791</th>\n",
       "      <td>Flow is Microsoft’s answer to IFTTT</td>\n",
       "      <td>Digital Trends via Yahoo! News</td>\n",
       "      <td>2016-05-01 11:10:00</td>\n",
       "      <td>0</td>\n",
       "      <td>13.221109</td>\n",
       "      <td>0</td>\n",
       "      <td>0.030471</td>\n",
       "      <td>0</td>\n",
       "      <td>6.861964</td>\n",
       "    </tr>\n",
       "    <tr>\n",
       "      <th>46538</th>\n",
       "      <td>Microsoft's IE loses top browser spot to Googl...</td>\n",
       "      <td>Computer World Australia</td>\n",
       "      <td>2016-05-01 11:31:00</td>\n",
       "      <td>111</td>\n",
       "      <td>44.621996</td>\n",
       "      <td>0</td>\n",
       "      <td>0.909720</td>\n",
       "      <td>6</td>\n",
       "      <td>9.187982</td>\n",
       "    </tr>\n",
       "    <tr>\n",
       "      <th>46542</th>\n",
       "      <td>This Microsoft legend says the the company is ...</td>\n",
       "      <td>Business Insider via Yahoo! Finance</td>\n",
       "      <td>2016-05-01 11:39:00</td>\n",
       "      <td>1</td>\n",
       "      <td>23.466905</td>\n",
       "      <td>0</td>\n",
       "      <td>0.650514</td>\n",
       "      <td>0</td>\n",
       "      <td>16.039449</td>\n",
       "    </tr>\n",
       "    <tr>\n",
       "      <th>46569</th>\n",
       "      <td>Windows 10 Mobile Build 10586.306 now being te...</td>\n",
       "      <td>MSPoweruser.com</td>\n",
       "      <td>2016-05-01 14:00:21</td>\n",
       "      <td>23</td>\n",
       "      <td>-2.763371</td>\n",
       "      <td>0</td>\n",
       "      <td>-1.326493</td>\n",
       "      <td>0</td>\n",
       "      <td>10.164756</td>\n",
       "    </tr>\n",
       "  </tbody>\n",
       "</table>\n",
       "</div>"
      ],
      "text/plain": [
       "                                                    Title  \\\n",
       "IDLink                                                      \n",
       "46462   Get a $50 Microsoft Store gift card with Xbox ...   \n",
       "46791                 Flow is Microsoft’s answer to IFTTT   \n",
       "46538   Microsoft's IE loses top browser spot to Googl...   \n",
       "46542   This Microsoft legend says the the company is ...   \n",
       "46569   Windows 10 Mobile Build 10586.306 now being te...   \n",
       "\n",
       "                                     Source         PublishDate  Facebook  \\\n",
       "IDLink                                                                      \n",
       "46462                       Windows Central 2016-05-01 08:47:22         9   \n",
       "46791        Digital Trends via Yahoo! News 2016-05-01 11:10:00         0   \n",
       "46538              Computer World Australia 2016-05-01 11:31:00       111   \n",
       "46542   Business Insider via Yahoo! Finance 2016-05-01 11:39:00         1   \n",
       "46569                       MSPoweruser.com 2016-05-01 14:00:21        23   \n",
       "\n",
       "        FacebookPrediction  GooglePlus  GooglePrediction  LinkedIn  \\\n",
       "IDLink                                                               \n",
       "46462            11.570160           2          2.577800         1   \n",
       "46791            13.221109           0          0.030471         0   \n",
       "46538            44.621996           0          0.909720         6   \n",
       "46542            23.466905           0          0.650514         0   \n",
       "46569            -2.763371           0         -1.326493         0   \n",
       "\n",
       "        LinkedInPrediction  \n",
       "IDLink                      \n",
       "46462            -7.440152  \n",
       "46791             6.861964  \n",
       "46538             9.187982  \n",
       "46542            16.039449  \n",
       "46569            10.164756  "
      ]
     },
     "execution_count": 114,
     "metadata": {},
     "output_type": "execute_result"
    }
   ],
   "source": [
    "df_new[['Title', 'Source', 'PublishDate', \n",
    "        'Facebook', 'FacebookPrediction', \n",
    "        'GooglePlus', 'GooglePrediction', \n",
    "        'LinkedIn', 'LinkedInPrediction']]\\\n",
    ".head()"
   ]
  },
  {
   "cell_type": "markdown",
   "metadata": {},
   "source": [
    "## TODO: Predict max"
   ]
  },
  {
   "cell_type": "code",
   "execution_count": null,
   "metadata": {},
   "outputs": [],
   "source": []
  }
 ],
 "metadata": {
  "kernelspec": {
   "display_name": "Python 3",
   "language": "python",
   "name": "python3"
  },
  "language_info": {
   "codemirror_mode": {
    "name": "ipython",
    "version": 3
   },
   "file_extension": ".py",
   "mimetype": "text/x-python",
   "name": "python",
   "nbconvert_exporter": "python",
   "pygments_lexer": "ipython3",
   "version": "3.7.6"
  }
 },
 "nbformat": 4,
 "nbformat_minor": 4
}
